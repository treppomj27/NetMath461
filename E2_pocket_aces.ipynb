{
 "cells": [
  {
   "cell_type": "markdown",
   "metadata": {
    "collapsed": true,
    "pycharm": {
     "name": "#%% md\n"
    }
   },
   "source": [
    "## Exercise 2 - Pocket Aces\n",
    "\n",
    "Here is a good quant interview question that demonstrates the concept of given probabilities:\n",
    "\n",
    "A dealer is sitting in front of you with two identical decks of cards. After shuffling each deck thoroughly, the dealer\n",
    "draws two cards from each deck, keeping the decks and their respective hands separate. He then peeks at both of the\n",
    "two-card hands and provides you with the following information:\n",
    "\n",
    "| Two-Card Hand <br/> (Deck 1) | Two-Card Hand <br/> (Deck 2) |\n",
    "|------------------------------|------------------------------|\n",
    "| One of the two cards is an ace | One of the two cards is the ace of spades |\n",
    "\n",
    "If your goal is to get pocket aces, which hand gives you the higher likelihood of doing so?"
   ]
  },
  {
   "cell_type": "markdown",
   "source": [
    "## Answer\n",
    "\n",
    "Let's start by calculating the odds of getting pocket aces for Deck 2. Since we know that one of the two cards is the\n",
    "ace of spades, we know that there 51 remaining unknown cards where 3 of which are aces.\n",
    "\n",
    "$$ P(A_{\\textrm{Deck 2}) = \\frac{3}{51} $$"
   ],
   "metadata": {
    "collapsed": false,
    "pycharm": {
     "name": "#%% md\n"
    }
   }
  },
  {
   "cell_type": "code",
   "execution_count": 17,
   "outputs": [],
   "source": [
    "def factorial(n):\n",
    "    if n == 0:\n",
    "        return 1\n",
    "    return n * factorial(n-1)\n",
    "\n",
    "def combination(n, k):\n",
    "    return int(factorial(n) / (factorial(k) * factorial(n - k)))"
   ],
   "metadata": {
    "collapsed": false,
    "pycharm": {
     "name": "#%%\n"
    }
   }
  },
  {
   "cell_type": "code",
   "execution_count": 18,
   "outputs": [
    {
     "name": "stdout",
     "output_type": "stream",
     "text": [
      "3628800\n",
      "10\n"
     ]
    }
   ],
   "source": [
    "print(factorial(10))\n",
    "print(combination(5, 2))\n"
   ],
   "metadata": {
    "collapsed": false,
    "pycharm": {
     "name": "#%%\n"
    }
   }
  }
 ],
 "metadata": {
  "kernelspec": {
   "display_name": "Python 3",
   "language": "python",
   "name": "python3"
  },
  "language_info": {
   "codemirror_mode": {
    "name": "ipython",
    "version": 2
   },
   "file_extension": ".py",
   "mimetype": "text/x-python",
   "name": "python",
   "nbconvert_exporter": "python",
   "pygments_lexer": "ipython2",
   "version": "2.7.6"
  }
 },
 "nbformat": 4,
 "nbformat_minor": 0
}