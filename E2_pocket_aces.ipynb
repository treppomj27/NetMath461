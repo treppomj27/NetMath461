{
 "cells": [
  {
   "cell_type": "markdown",
   "metadata": {
    "collapsed": true,
    "pycharm": {
     "name": "#%% md\n"
    }
   },
   "source": [
    "## Exercise 2 - Pocket Aces\n",
    "\n",
    "Here is a good quant interview question that demonstrates the concept of conditional probabilities:\n",
    "\n",
    "A dealer is sitting in front of you with two identical decks of cards. After shuffling each deck thoroughly, the dealer\n",
    "draws two cards from each deck, keeping each deck and its respective hand separate and face down. He then peeks at both\n",
    "of the two-card hands and provides you with the following information:\n",
    "\n",
    "| Two-Card Hand <br/> (Deck 1) | Two-Card Hand <br/> (Deck 2) |\n",
    "|------------------------------|------------------------------|\n",
    "| One of the two cards is an ace | One of the two cards is the ace of spades |\n",
    "\n",
    "If your goal is to get pocket aces, which hand would you pick?"
   ]
  },
  {
   "cell_type": "markdown",
   "source": [
    "## Answer\n",
    "\n",
    "The key to solving this problem lies with having a good understanding of conditional probabilities using the following\n",
    "formula:\n",
    "\n",
    "<a href=\"https://www.codecogs.com/eqnedit.php?latex=P(A&space;|&space;B)&space;=&space;\\frac{P(A&space;\\cap&space;B)}{P(B)}\" target=\"_blank\"><img src=\"https://latex.codecogs.com/gif.latex?P(A&space;|&space;B)&space;=&space;\\frac{P(A&space;\\cap&space;B)}{P(B)}\" title=\"P(A | B) = \\frac{P(A \\cap B)}{P(B)}\" /></a>\n",
    "\n",
    "It states that the probability of event A occurring given that event B has occurred is equal to the probability of both\n",
    "events occurring divided by the probability of B occurring.\n",
    "\n",
    "Let's start our response by defining some potential outcomes for a two-card hand:\n",
    "\n",
    "| Variable | Description |\n",
    "|----------|-------------|\n",
    "| A | The hand contains at least one ace |\n",
    "| B | The hand contains the ace of spades |\n",
    "| C | The hand contains two aces |\n",
    "\n",
    "So our goal is to figure out whether the likelihood of outcome C is higher given outcome A or outcome B. In other words,\n",
    "what mathematical equality operator should we use to replace this question mark:\n",
    "\n",
    "<a href=\"https://www.codecogs.com/eqnedit.php?latex=P(C|A)&space;\\&space;?&space;\\&space;P(C|B)\" target=\"_blank\"><img src=\"https://latex.codecogs.com/gif.latex?P(C|A)&space;\\&space;?&space;\\&space;P(C|B)\" title=\"P(C|A) \\ ? \\ P(C|B)\" /></a>\n",
    "\n",
    "By applying the conditional probability formula, we can write:\n",
    "\n",
    "<a href=\"https://www.codecogs.com/eqnedit.php?latex=\\frac{P(C&space;\\cap&space;A)}{P(A))}&space;\\&space;?&space;\\&space;\\frac{P(C&space;\\cap&space;B)}{P(B))}\" target=\"_blank\"><img src=\"https://latex.codecogs.com/gif.latex?\\frac{P(C&space;\\cap&space;A)}{P(A))}&space;\\&space;?&space;\\&space;\\frac{P(C&space;\\cap&space;B)}{P(B))}\" title=\"\\frac{P(C \\cap A)}{P(A))} \\ ? \\ \\frac{P(C \\cap B)}{P(B))}\" /></a>\n",
    "\n",
    "Before we continue, let's set up functions to help us evaluate factorials and combinations:"
   ],
   "metadata": {
    "collapsed": false,
    "pycharm": {
     "name": "#%% md\n"
    }
   }
  },
  {
   "cell_type": "code",
   "execution_count": 39,
   "outputs": [],
   "source": [
    "def factorial(n):\n",
    "    if n == 0:\n",
    "        return 1\n",
    "    return n * factorial(n-1)\n",
    "\n",
    "def combination(n, k):\n",
    "    return int(factorial(n) / (factorial(k) * factorial(n - k)))"
   ],
   "metadata": {
    "collapsed": false,
    "pycharm": {
     "name": "#%%\n"
    }
   }
  },
  {
   "cell_type": "markdown",
   "source": [
    "Now that we are ready, let's start with the left hand sign of the equation. For the probability of C and A, we are\n",
    "looking for the intersection of getting pocket aces and having a hand with at least one ace. Since every hand of pocket\n",
    "aces has at least one ace, the intersection of C and A is equal to just C, the likelihood of getting pocket aces. We can\n",
    "calculate the likelihood of getting pocket aces in following way:\n",
    "\n",
    "<a href=\"https://www.codecogs.com/eqnedit.php?latex=P(C)&space;=&space;\\frac{\\binom{4}{2}}{\\binom{52}{2}}\" target=\"_blank\"><img src=\"https://latex.codecogs.com/gif.latex?P(C)&space;=&space;\\frac{\\binom{4}{2}}{\\binom{52}{2}}\" title=\"P(C) = \\frac{\\binom{4}{2}}{\\binom{52}{2}}\" /></a>\n",
    "\n",
    "This formula is equivalent to the number of combinations where we can get pocket aces divided by the total number\n",
    "potential combinations of two cards.\n",
    "\n",
    "For outcome A, the easiest approach is to first find the likelihood of getting a hand without an ace and then to use the\n",
    "complement rule:\n",
    "\n",
    "<a href=\"https://www.codecogs.com/eqnedit.php?latex=P(A)&space;=&space;1&space;-&space;P(A')\" target=\"_blank\"><img src=\"https://latex.codecogs.com/gif.latex?P(A)&space;=&space;1&space;-&space;P(A')\" title=\"P(A) = 1 - P(A')\" /></a> <br/>\n",
    "<a href=\"https://www.codecogs.com/eqnedit.php?latex=P(A)&space;=&space;1&space;-&space;\\frac{\\binom{48}{2}}{\\binom{52}{2}}\" target=\"_blank\"><img src=\"https://latex.codecogs.com/gif.latex?P(A)&space;=&space;1&space;-&space;\\frac{\\binom{48}{2}}{\\binom{52}{2}}\" title=\"P(A) = 1 - \\frac{\\binom{48}{2}}{\\binom{52}{2}}\" /></a>\n",
    "\n",
    "Now that we have formulas for the probabilities of the intersection of C and A as well as A, we can compute each value\n",
    "and apply the conditional probability rule with the following code:"
   ],
   "metadata": {
    "collapsed": false,
    "pycharm": {
     "name": "#%% md\n"
    }
   }
  },
  {
   "cell_type": "code",
   "execution_count": 40,
   "outputs": [
    {
     "name": "stdout",
     "output_type": "stream",
     "text": [
      "Prob(C&A) = 0.452 %\n",
      "Prob(A) = 14.932 %\n",
      "Prob(C|A) = 3.03 %\n"
     ]
    }
   ],
   "source": [
    "Prob_C_and_A = combination(4, 2) / combination(52, 2)\n",
    "print('Prob(C&A) =', round(Prob_C_and_A*100, 3), '%')\n",
    "\n",
    "Prob_A = 1 - combination(48, 2) / combination(52, 2)\n",
    "print('Prob(A) =', round(Prob_A*100, 3), '%')\n",
    "\n",
    "Prob_C_given_A = Prob_C_and_A / Prob_A\n",
    "print('Prob(C|A) =', round(Prob_C_given_A*100, 3), '%')"
   ],
   "metadata": {
    "collapsed": false,
    "pycharm": {
     "name": "#%%\n"
    }
   }
  },
  {
   "cell_type": "markdown",
   "source": [
    "Now to the right hand side of the equation. For the intersection of C and B, we are looking for the intersection of\n",
    "getting pocket aces and the hand including the ace of spades. So how many hands of pocket aces include the ace of\n",
    "spades? This is just equivalent to the ace of spaces being paired with each of the other three aces, so 3.\n",
    "\n",
    "<a href=\"https://www.codecogs.com/eqnedit.php?latex=P(C&space;\\cap&space;B)&space;=&space;\\frac{\\binom{1}{1}&space;\\binom{3}{1}}{\\binom{52}{2}}&space;=&space;\\frac{3}{\\binom{52}{2}}\" target=\"_blank\"><img src=\"https://latex.codecogs.com/gif.latex?P(C&space;\\cap&space;B)&space;=&space;\\frac{\\binom{1}{1}&space;\\binom{3}{1}}{\\binom{52}{2}}&space;=&space;\\frac{3}{\\binom{52}{2}}\" title=\"P(C \\cap B) = \\frac{\\binom{1}{1} \\binom{3}{1}}{\\binom{52}{2}} = \\frac{3}{\\binom{52}{2}}\" /></a>\n",
    "\n",
    "As for B, the number hands where we can have the ace of spades is just the number of cards remaining in the deck with\n",
    "which it can be paired:\n",
    "\n",
    "<a href=\"https://www.codecogs.com/eqnedit.php?latex=P(B)&space;=&space;\\frac{\\binom{1}{1}&space;\\binom{51}{1}}{\\binom{52}{2}}&space;=&space;\\frac{51}{\\binom{52}{2}}\" target=\"_blank\"><img src=\"https://latex.codecogs.com/gif.latex?P(B)&space;=&space;\\frac{\\binom{1}{1}&space;\\binom{51}{1}}{\\binom{52}{2}}&space;=&space;\\frac{51}{\\binom{52}{2}}\" title=\"P(B) = \\frac{\\binom{1}{1} \\binom{51}{1}}{\\binom{52}{2}} = \\frac{51}{\\binom{52}{2}}\" /></a>\n",
    "\n",
    "Now that we have formulas for the probabilities of the intersection of C and B as well as B, we can compute each of\n",
    "these and apply the conditional probability formula with the following code:"
   ],
   "metadata": {
    "collapsed": false,
    "pycharm": {
     "name": "#%% md\n"
    }
   }
  },
  {
   "cell_type": "code",
   "execution_count": 41,
   "outputs": [
    {
     "name": "stdout",
     "output_type": "stream",
     "text": [
      "Prob(C&B) = 0.226 %\n",
      "Prob(B) = 3.846 %\n",
      "Prob(C|B) = 5.882 %\n"
     ]
    }
   ],
   "source": [
    "Prob_C_and_B = combination(1, 1) * combination(3, 1) / combination(52, 2)\n",
    "print('Prob(C&B) =', round(Prob_C_and_B*100, 3), '%')\n",
    "\n",
    "Prob_B = combination(1, 1) * combination(51, 1) / combination(52, 2)\n",
    "print('Prob(B) =', round(Prob_B*100, 3), '%')\n",
    "\n",
    "Prob_C_given_B = Prob_C_and_B / Prob_B\n",
    "print('Prob(C|B) =', round(Prob_C_given_B*100, 3), '%')"
   ],
   "metadata": {
    "collapsed": false,
    "pycharm": {
     "name": "#%%\n"
    }
   }
  },
  {
   "cell_type": "markdown",
   "source": [
    "Now that we have completed our calculations, we can say that\n",
    "\n",
    "<a href=\"https://www.codecogs.com/eqnedit.php?latex=3.03%&space;<&space;5.882%\" target=\"_blank\"><img src=\"https://latex.codecogs.com/gif.latex?3.03%&space;<&space;5.882%\" title=\"3.03% < 5.882%\" /></a> <br/>\n",
    "<a href=\"https://www.codecogs.com/eqnedit.php?latex=P(C|A)&space;<&space;P(C|B)\" target=\"_blank\"><img src=\"https://latex.codecogs.com/gif.latex?P(C|A)&space;<&space;P(C|B)\" title=\"P(C|A) < P(C|B)\" /></a>\n",
    "\n",
    "And therefore, we should select the two card hand from Deck 2."
   ],
   "metadata": {
    "collapsed": false
   }
  },
  {
   "cell_type": "markdown",
   "source": [
    "## Explanation\n",
    "\n",
    "A common misconception in answering this question is that the odds for either of the two-card hands are the same because\n",
    "an ace is an ace, knowing the suit doesn't matter. In reality, knowing that extra piece of information about the suit\n",
    "made the odds of getting pocket aces almost twice as likely.\n",
    "\n",
    "The best way to quickly solve this question is to compare the relative size of the probability spaces:\n",
    "\n",
    "| Two-Card Hand <br/> (Deck 1) | Two-Card Hand <br/> (Deck 2) |\n",
    "|------------------------------|------------------------------|\n",
    "| <a href=\"https://www.codecogs.com/eqnedit.php?latex=C&space;\\cap&space;A&space;=&space;\\binom{4}{2}&space;=&space;6\" target=\"_blank\"><img src=\"https://latex.codecogs.com/gif.latex?C&space;\\cap&space;A&space;=&space;\\binom{4}{2}&space;=&space;6\" title=\"C \\cap A = \\binom{4}{2} = 6\" /></a> <br/> <a href=\"https://www.codecogs.com/eqnedit.php?latex=A&space;=&space;\\binom{52}{2}&space;-&space;\\binom{48}{2}&space;=&space;1326&space;-&space;1128&space;=&space;198\" target=\"_blank\"><img src=\"https://latex.codecogs.com/gif.latex?A&space;=&space;\\binom{52}{2}&space;-&space;\\binom{48}{2}&space;=&space;1326&space;-&space;1128&space;=&space;198\" title=\"A = \\binom{52}{2} - \\binom{48}{2} = 1326 - 1128 = 198\" /></a> | <a href=\"https://www.codecogs.com/eqnedit.php?latex=C&space;\\cap&space;B&space;=&space;\\binom{1}{1}&space;\\binom{3}{1}&space;=&space;\\binom{3}{1}&space;=&space;3\" target=\"_blank\"><img src=\"https://latex.codecogs.com/gif.latex?C&space;\\cap&space;B&space;=&space;\\binom{1}{1}&space;\\binom{3}{1}&space;=&space;\\binom{3}{1}&space;=&space;3\" title=\"C \\cap B = \\binom{1}{1} \\binom{3}{1} = \\binom{3}{1} = 3\" /></a> <br/> <a href=\"https://www.codecogs.com/eqnedit.php?latex=B&space;=&space;\\binom{1}{1}&space;\\binom{51}{1}&space;=&space;\\binom{51}{1}&space;=&space;51\" target=\"_blank\"><img src=\"https://latex.codecogs.com/gif.latex?B&space;=&space;\\binom{1}{1}&space;\\binom{51}{1}&space;=&space;\\binom{51}{1}&space;=&space;51\" title=\"B = \\binom{1}{1} \\binom{51}{1} = \\binom{51}{1} = 51\" /></a> |\n",
    "\n",
    "Also, remember that in the conditional formula, the AND's are in the numerator while the individual A's or B's are in\n",
    "the denominator.\n",
    "\n",
    "<a href=\"https://www.codecogs.com/eqnedit.php?latex=\\frac{P(C&space;\\cap&space;A)}{P(A))}&space;\\&space;?&space;\\&space;\\frac{P(C&space;\\cap&space;B)}{P(B))}\" target=\"_blank\"><img src=\"https://latex.codecogs.com/gif.latex?\\frac{P(C&space;\\cap&space;A)}{P(A))}&space;\\&space;?&space;\\&space;\\frac{P(C&space;\\cap&space;B)}{P(B))}\" title=\"\\frac{P(C \\cap A)}{P(A))} \\ ? \\ \\frac{P(C \\cap B)}{P(B))}\" /></a>\n",
    "\n",
    "Although we can get pocket aces in twice as many ways with the two-card hand from Deck 1 compared to Deck 2, since we\n",
    "can get a two-card hand with at least an ace almost four times as many ways as we can get a two-card hand with the ace\n",
    "of spades.\n",
    "\n",
    "<a href=\"https://www.codecogs.com/eqnedit.php?latex=\\frac{6}{198}&space;\\&space;?&space;\\&space;\\frac{3}{51}\" target=\"_blank\"><img src=\"https://latex.codecogs.com/gif.latex?\\frac{6}{198}&space;\\&space;?&space;\\&space;\\frac{3}{51}\" title=\"\\frac{6}{198} \\ ? \\ \\frac{3}{51}\" /></a>\n",
    "\n",
    "<a href=\"https://www.codecogs.com/eqnedit.php?latex=\\frac{3}{99}&space;<&space;\\frac{3}{51}\" target=\"_blank\"><img src=\"https://latex.codecogs.com/gif.latex?\\frac{3}{99}&space;<&space;\\frac{3}{51}\" title=\"\\frac{3}{99} < \\frac{3}{51}\" /></a>\n"
   ],
   "metadata": {
    "collapsed": false,
    "pycharm": {
     "name": "#%% md\n"
    }
   }
  }
 ],
 "metadata": {
  "kernelspec": {
   "display_name": "Python 3",
   "language": "python",
   "name": "python3"
  },
  "language_info": {
   "codemirror_mode": {
    "name": "ipython",
    "version": 2
   },
   "file_extension": ".py",
   "mimetype": "text/x-python",
   "name": "python",
   "nbconvert_exporter": "python",
   "pygments_lexer": "ipython2",
   "version": "2.7.6"
  }
 },
 "nbformat": 4,
 "nbformat_minor": 0
}