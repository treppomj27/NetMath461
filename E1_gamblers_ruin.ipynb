{
 "cells": [
  {
   "cell_type": "code",
   "execution_count": null,
   "metadata": {
    "collapsed": true
   },
   "outputs": [],
   "source": [
    "import numpy as np"
   ]
  },
  {
   "cell_type": "code",
   "execution_count": null,
   "outputs": [],
   "source": [
    "cash_initial = 20\n",
    "prob_win = 0.51\n",
    "reward = 1\n",
    "penalty = -1\n",
    "num_iterations = 1000\n",
    "num_experiments = 1000"
   ],
   "metadata": {
    "collapsed": false,
    "pycharm": {
     "name": "#%%\n"
    }
   }
  },
  {
   "cell_type": "code",
   "execution_count": null,
   "outputs": [],
   "source": [
    "num_busted = 0\n",
    "outcomes = []\n",
    "for i in range(0, num_experiments):\n",
    "\n",
    "    busted = False\n",
    "    cash = cash_initial\n",
    "    cash_positions = [cash]\n",
    "    iterations = [0]\n",
    "    rng_values = [np.random.uniform(low=0.0, high=1.0)]\n",
    "    for ctr in range(1, num_iterations + 1):\n",
    "        rng = np.random.uniform(low=0.0, high=1.0)\n",
    "        if rng < prob_win:\n",
    "            cash += reward\n",
    "        else:\n",
    "            cash += penalty\n",
    "        if not busted and cash <= 0:\n",
    "            busted = True\n",
    "            busted_iteration = ctr\n",
    "        cash_positions.append(cash)\n",
    "        iterations.append(ctr)\n",
    "\n",
    "    if busted:\n",
    "        outcomes.append(0)\n",
    "        num_busted += 1\n",
    "    else:\n",
    "        outcomes.append(cash_positions[num_iterations])"
   ],
   "metadata": {
    "collapsed": false,
    "pycharm": {
     "name": "#%%\n"
    }
   }
  },
  {
   "cell_type": "code",
   "execution_count": null,
   "outputs": [],
   "source": [
    "num_losses = 0\n",
    "num_wins = 0\n",
    "num_ties = 0\n",
    "for i in range(0, len(outcomes)):\n",
    "    if outcomes[i] < cash_initial:\n",
    "        num_losses += 1\n",
    "    elif outcomes[i] > cash_initial:\n",
    "        num_wins += 1\n",
    "    else:\n",
    "        num_ties += 1"
   ],
   "metadata": {
    "collapsed": false,
    "pycharm": {
     "name": "#%%\n"
    }
   }
  },
  {
   "cell_type": "code",
   "execution_count": null,
   "outputs": [],
   "source": [
    "print()\n",
    "print('     Number of Losses =', num_losses)\n",
    "print('  ( Number Driven Out =', num_busted, ')')\n",
    "print('       Number of Wins =', num_wins)\n",
    "print('       Number of Ties =', num_ties)\n",
    "print('--------------------------------')\n",
    "print('Number of Experiments =', num_experiments, '\\n')\n",
    "\n",
    "print('       Losses / Total =', round(num_losses / num_experiments * 100, 2), '%')\n",
    "print(' ( Driven Out / Total =', round(num_busted / num_experiments * 100, 2), '%', ')')\n",
    "print('         Wins / Total =', round(num_wins / num_experiments * 100, 2), '%')\n",
    "print('         Ties / Total =', round(num_ties / num_experiments * 100, 2), '%')\n",
    "print('--------------------------------')\n",
    "print('                      = 100.00%')\n",
    "\n",
    "print()\n",
    "print('Avg. Ending Cash Position = $', np.round(np.mean(outcomes), 2), '\\n')"
   ],
   "metadata": {
    "collapsed": false,
    "pycharm": {
     "name": "#%%\n"
    }
   }
  }
 ],
 "metadata": {
  "kernelspec": {
   "display_name": "Python 3",
   "language": "python",
   "name": "python3"
  },
  "language_info": {
   "codemirror_mode": {
    "name": "ipython",
    "version": 2
   },
   "file_extension": ".py",
   "mimetype": "text/x-python",
   "name": "python",
   "nbconvert_exporter": "python",
   "pygments_lexer": "ipython2",
   "version": "2.7.6"
  }
 },
 "nbformat": 4,
 "nbformat_minor": 0
}